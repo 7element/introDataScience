{
 "cells": [
  {
   "cell_type": "markdown",
   "metadata": {},
   "source": [
    "# 探索数据与可视化"
   ]
  },
  {
   "cell_type": "markdown",
   "metadata": {},
   "source": [
    "## 什么叫探索数据？"
   ]
  },
  {
   "cell_type": "markdown",
   "metadata": {},
   "source": [
    "## 探索数据的态度\n",
    "### 正直\n",
    "### 简洁"
   ]
  },
  {
   "cell_type": "markdown",
   "metadata": {},
   "source": [
    "## 数据的类型\n",
    "### Nominal\n",
    "### Ordinal\n",
    "### Interval data\n",
    "### Ratio data"
   ]
  },
  {
   "cell_type": "markdown",
   "metadata": {},
   "source": [
    "## 用对图表\n",
    "### 1D\n",
    "### 2D\n",
    "### 3D"
   ]
  },
  {
   "cell_type": "markdown",
   "metadata": {},
   "source": [
    "## 深入阅读\n",
    "[Flowing Data Blog](http://flowingdata.com)  \n",
    "[Visualize This](https://book.douban.com/subject/5969455/)  \n",
    "[Visual Explanations](https://book.douban.com/subject/1438332/)  \n",
    "[Envisioning Information](https://book.douban.com/subject/1861189/)  \n",
    "[The Visual Display of Quantitative Information](https://book.douban.com/subject/1316642/)  \n",
    "[Now You See It](https://book.douban.com/subject/3815834/)"
   ]
  },
  {
   "cell_type": "markdown",
   "metadata": {},
   "source": [
    "## 参考内容"
   ]
  }
 ],
 "metadata": {
  "kernelspec": {
   "display_name": "Python 3",
   "language": "python",
   "name": "python3"
  },
  "language_info": {
   "codemirror_mode": {
    "name": "ipython",
    "version": 3
   },
   "file_extension": ".py",
   "mimetype": "text/x-python",
   "name": "python",
   "nbconvert_exporter": "python",
   "pygments_lexer": "ipython3",
   "version": "3.6.4"
  }
 },
 "nbformat": 4,
 "nbformat_minor": 2
}
