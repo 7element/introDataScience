{
 "cells": [
  {
   "cell_type": "markdown",
   "metadata": {},
   "source": [
    "# 高斯马尔科夫定理"
   ]
  },
  {
   "cell_type": "markdown",
   "metadata": {},
   "source": [
    "在 OLS 那篇文章里，我提到高斯马尔科夫定理证明了 OLS 有一些特别好的性质，具体来说，OLS 得到的 $w$ 无偏（unbiased），$E(\\hat{w}) - w = 0$，如果我们加上一些假设条件，OLS 得到的 $w$ 是最佳无偏线性估计（BLUE, best linear unbiased estimator）。这篇文章里我会解释什么是无偏、什么是最佳无偏线性估计，以及如何证明 OLS 具有这些性质。"
   ]
  },
  {
   "cell_type": "markdown",
   "metadata": {},
   "source": [
    "## 如何评价 OLS？"
   ]
  },
  {
   "cell_type": "markdown",
   "metadata": {},
   "source": [
    "在评价 OLS 之前，我们先定义评价的标准，什么是好的估计？真实的数值表示为 $w$，我们基于样本估计出的数值表示为 $\\hat{w}$，由于你不可能得到所有数据，只能抽样，因此样本有随机性，样本的随机性导致了估计的随机性，不同的样本会带来不同的 $\\hat{w}$，因此 $\\hat{w}$ 是个随机变量。"
   ]
  },
  {
   "cell_type": "markdown",
   "metadata": {},
   "source": [
    "我们希望 $\\hat{w}$ 无偏"
   ]
  },
  {
   "cell_type": "markdown",
   "metadata": {},
   "source": [
    "我们希望 $\\hat{w}$ 方差尽量小"
   ]
  },
  {
   "cell_type": "markdown",
   "metadata": {},
   "source": [
    "## OLS 是无偏的"
   ]
  },
  {
   "cell_type": "markdown",
   "metadata": {},
   "source": []
  },
  {
   "cell_type": "markdown",
   "metadata": {},
   "source": [
    "## OLS 是最佳无偏线性估计"
   ]
  },
  {
   "cell_type": "markdown",
   "metadata": {},
   "source": []
  },
  {
   "cell_type": "markdown",
   "metadata": {},
   "source": []
  },
  {
   "cell_type": "markdown",
   "metadata": {},
   "source": [
    "## MSE"
   ]
  },
  {
   "cell_type": "markdown",
   "metadata": {},
   "source": [
    "## OLS 的局限"
   ]
  },
  {
   "cell_type": "markdown",
   "metadata": {},
   "source": [
    "假设"
   ]
  },
  {
   "cell_type": "markdown",
   "metadata": {},
   "source": [
    "内生性"
   ]
  },
  {
   "cell_type": "markdown",
   "metadata": {},
   "source": []
  },
  {
   "cell_type": "markdown",
   "metadata": {},
   "source": []
  },
  {
   "cell_type": "markdown",
   "metadata": {},
   "source": []
  },
  {
   "cell_type": "markdown",
   "metadata": {},
   "source": []
  },
  {
   "cell_type": "markdown",
   "metadata": {},
   "source": []
  },
  {
   "cell_type": "markdown",
   "metadata": {},
   "source": []
  },
  {
   "cell_type": "markdown",
   "metadata": {},
   "source": []
  },
  {
   "cell_type": "markdown",
   "metadata": {},
   "source": []
  },
  {
   "cell_type": "markdown",
   "metadata": {},
   "source": []
  },
  {
   "cell_type": "markdown",
   "metadata": {},
   "source": []
  }
 ],
 "metadata": {
  "kernelspec": {
   "display_name": "Python 3",
   "language": "python",
   "name": "python3"
  },
  "language_info": {
   "codemirror_mode": {
    "name": "ipython",
    "version": 3
   },
   "file_extension": ".py",
   "mimetype": "text/x-python",
   "name": "python",
   "nbconvert_exporter": "python",
   "pygments_lexer": "ipython3",
   "version": "3.6.4"
  }
 },
 "nbformat": 4,
 "nbformat_minor": 2
}
