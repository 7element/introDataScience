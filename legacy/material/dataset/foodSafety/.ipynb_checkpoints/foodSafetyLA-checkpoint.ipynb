{
 "cells": [
  {
   "cell_type": "markdown",
   "metadata": {},
   "source": [
    "# 数据科学家的日常—调查洛杉矶食品安全"
   ]
  },
  {
   "cell_type": "markdown",
   "metadata": {},
   "source": [
    "## 提出问题\n",
    "旧金山的餐馆往往会公示餐馆的食品卫生得分，就像这样：\n",
    "\n",
    "![](https://ws1.sinaimg.cn/large/006tNc79gy1fiaetworbpj30ku0rswge.jpg)\n",
    "\n",
    "虽然有个高分，但令人一头雾水，我想知道：\n",
    "1. 这个分数到底什么意思？怎么计算的？\n",
    "2. 90 分算不算高？\n",
    "3. 96 分的餐馆够卫生吗？\n",
    "4. 平均得分大概是多少？\n",
    "5. 哪些地区的餐馆更卫生？\n",
    "6. 餐馆都有哪些普遍问题？\n",
    "7. 卫生检查的频率怎么样？\n",
    "\n",
    "再想想，你还能提出哪些问题？"
   ]
  },
  {
   "cell_type": "markdown",
   "metadata": {},
   "source": [
    "## 使用命令行初探数据"
   ]
  },
  {
   "cell_type": "markdown",
   "metadata": {},
   "source": [
    "## 使用 pandas 分析数据"
   ]
  },
  {
   "cell_type": "markdown",
   "metadata": {},
   "source": [
    "## 使用 folium 可视化"
   ]
  },
  {
   "cell_type": "code",
   "execution_count": null,
   "metadata": {
    "collapsed": true
   },
   "outputs": [],
   "source": []
  }
 ],
 "metadata": {
  "kernelspec": {
   "display_name": "Python 2",
   "language": "python",
   "name": "python2"
  },
  "language_info": {
   "codemirror_mode": {
    "name": "ipython",
    "version": 2
   },
   "file_extension": ".py",
   "mimetype": "text/x-python",
   "name": "python",
   "nbconvert_exporter": "python",
   "pygments_lexer": "ipython2",
   "version": "2.7.13"
  }
 },
 "nbformat": 4,
 "nbformat_minor": 2
}
