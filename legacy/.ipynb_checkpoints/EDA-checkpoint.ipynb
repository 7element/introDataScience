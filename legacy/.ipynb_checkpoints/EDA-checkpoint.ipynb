{
 "cells": [
  {
   "cell_type": "markdown",
   "metadata": {},
   "source": [
    "# 探索性数据分析"
   ]
  },
  {
   "cell_type": "markdown",
   "metadata": {},
   "source": [
    "## EDA 是什么\n",
    "探索性数据分析（Exploratory Data Analysis, EDA）像侦探工作，你不知道自己会找到什么，所以你也不会做过多的假设，通过可视化工具对数据进行一次又一次的检视来找到线索，并对结果保持开放的心态，正如 EDA 之父 John Tukey 所言，「探索数据是一种态度，是对我们相信存在抑或不存在的事物保持灵活的审视」。\n",
    "\n",
    "> Exploratory data analysis is an attitude, a state of flexibility, a willingness to look for those things that we believe are not there, as well as those that we believe to be there.  \n",
    "\n",
    "与 EDA 区别的是传统统计分析（Formal Analysis），传统统计分析在假设样本分布后，把数据套入假设模型再做分析。EDA 所做的，就是重新检视我们对数据的理解，为之后的传统统计分析打下基础。\n",
    "\n",
    "本篇将讨论如何正确地运用可视化工具进行探索性数据分析，这些准则也适用于数据可视化，但探索性数据分析和数据可视化的目标是不同的，探索性数据分析重在「探索」，为研究者服务；数据可视化重在「讲故事」，为观众服务。"
   ]
  },
  {
   "cell_type": "markdown",
   "metadata": {},
   "source": [
    "## 正直的数据分析\n",
    "做任何研究，研究者都不能事先确定任何立场，对于 EDA 来说更是如此，研究者必须保持怀疑和谨慎的态度，即便数据结果与你预期大不相同，也要尽量做到客观。\n",
    "\n",
    "不正直的数据分析有两类，一类是研究者想让数据结果更显著来支持自己的立场，包括[篡改 p 值（p-hacking）](https://www.howsci.com/p-hacking.html)、数据窥探（data snooping）等等，这些行为往往让你的实验无法重复。xkcd 有篇[漫画](https://imgs.xkcd.com/comics/significant.png)就讽刺了这个现象。\n",
    "\n",
    "![significant](pics/significant.png)\n",
    "\n",
    "另一类不正直的数据分析是研究者故意误导观众，例如 FOX 把柱状图的下半部分砍掉，造成增长很多的假象。\n",
    "\n",
    "![foxChart1](pics/foxChart1.png)\n",
    "\n",
    "而事实上，如果让柱状图从 0 开始显示，结果如下。\n",
    "\n",
    "![foxChart2](pics/foxChart2.png)\n",
    "\n",
    "下图中，FOX 故意挑选某些月份的数据，误导观众以为奥巴马政府的失业率不断走高，可以看到 x 轴的月份根本不是每季度（By Quarter） 的。\n",
    "\n",
    "![foxChart3](pics/foxChart3.png)\n",
    " "
   ]
  },
  {
   "cell_type": "markdown",
   "metadata": {},
   "source": [
    "## 简化图表\n",
    "尽最大的可能简化图表，数据可视化的初衷就是减轻人们理解数据的负担，简化图表能让观众更专注于数据上，可视化大师 Edward Tufte 提出了要用「最少的油墨」显示「最多的数据」，以下是几个简化要点。\n",
    "\n",
    "首先，绝对不使用 3D，3D 完全不如 2D 直观。\n",
    "\n",
    "![dont](pics/dont.png)\n",
    "\n",
    "![3dBar](pics/3dBar.png)\n",
    "\n",
    "![2dBar](pics/2dBar.png)\n",
    "\n",
    "其次，简化一切无用的元素，去除背景、网格、图表框。\n",
    "\n",
    "![chartJunk1](pics/chartJunk1.png)\n",
    "\n",
    "![chartJunk2](pics/chartJunk2.png)\n",
    "\n",
    "![chartJunk3](pics/chartJunk3.png)"
   ]
  },
  {
   "cell_type": "markdown",
   "metadata": {},
   "source": [
    "## 用对图表\n",
    "![choosing_a_good_chart](pics/choosing_a_good_chart.jpg)\n",
    "\n",
    "A. V. Abela 制作了一张图表建议，放在他的[博客](http://extremepresentation.typepad.com/blog/2015/01/announcing-the-slide-chooser.html)上。简而言之，描述趋势使用折线图，描述数量使用柱状图（且必须从 0 开始），描述关系使用散点图，描述比例使用饼状图。\n",
    "\n",
    "科学家经过 30 年的研究，发现人对位置、长度和角度的感知最敏锐，可以用来表示数量，其次是面积和密度，可表示顺序，对于颜色和形状的感知是最不精确的，只可用来区分类别。\n",
    "\n",
    "![visEfficiency](pics/visEfficiency.png)"
   ]
  },
  {
   "cell_type": "markdown",
   "metadata": {},
   "source": [
    "## 用对颜色\n",
    "比较数量大小的时候，不要使用彩虹色，因为彩虹色不能体现线性关系，我们的认知没法感觉到红色比绿色「高」，更好的选择时用不同深浅的颜色。彩虹色还会对色盲人群造成困扰。\n",
    "\n",
    "颜色的建议可以在 [Color Brewer](http://colorbrewer2.org/#type=sequential&scheme=PuBu&n=3) 找到。这些颜色在数据可视化库 Seaborn 上也有。"
   ]
  },
  {
   "cell_type": "markdown",
   "metadata": {},
   "source": [
    "## 深入阅读\n",
    "[Flowing Data Blog](http://flowingdata.com)  \n",
    "[Visualize This](https://book.douban.com/subject/5969455/)  \n",
    "[Visual Explanations](https://book.douban.com/subject/1438332/)  \n",
    "[Envisioning Information](https://book.douban.com/subject/1861189/)  \n",
    "[The Visual Display of Quantitative Information](https://book.douban.com/subject/1316642/)  \n",
    "[Now You See It](https://book.douban.com/subject/3815834/)"
   ]
  }
 ],
 "metadata": {
  "kernelspec": {
   "display_name": "Python 3",
   "language": "python",
   "name": "python3"
  },
  "language_info": {
   "codemirror_mode": {
    "name": "ipython",
    "version": 3
   },
   "file_extension": ".py",
   "mimetype": "text/x-python",
   "name": "python",
   "nbconvert_exporter": "python",
   "pygments_lexer": "ipython3",
   "version": "3.6.4"
  }
 },
 "nbformat": 4,
 "nbformat_minor": 2
}
